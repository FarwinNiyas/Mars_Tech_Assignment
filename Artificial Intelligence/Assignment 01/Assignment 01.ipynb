{
 "cells": [
  {
   "cell_type": "code",
   "execution_count": 1,
   "id": "019bb72a-a115-4e5c-a7f7-923d0934b67d",
   "metadata": {
    "scrolled": true
   },
   "outputs": [
    {
     "name": "stdout",
     "output_type": "stream",
     "text": [
      "Welcome to Assignment-1\n"
     ]
    }
   ],
   "source": [
    "print(\"Welcome to Assignment-1\")"
   ]
  },
  {
   "cell_type": "code",
   "execution_count": 4,
   "id": "56dd54cf-ce22-448f-a2ac-07e2e71bb0a1",
   "metadata": {
    "scrolled": true
   },
   "outputs": [
    {
     "name": "stdout",
     "output_type": "stream",
     "text": [
      "Add= 40\n"
     ]
    }
   ],
   "source": [
    "Num1= 10\n",
    "Num2= 30\n",
    "Add= Num1+Num2\n",
    "print(\"Add=\",Add)"
   ]
  },
  {
   "cell_type": "code",
   "execution_count": 10,
   "id": "c03c6a09-ba25-4015-885f-b2c6193cc48c",
   "metadata": {},
   "outputs": [
    {
     "name": "stdin",
     "output_type": "stream",
     "text": [
      "Enter the BMI Index: 39\n"
     ]
    },
    {
     "name": "stdout",
     "output_type": "stream",
     "text": [
      "Extreme obesity\n"
     ]
    }
   ],
   "source": [
    "BMI= int(input(\"Enter the BMI Index:\"))\n",
    "\n",
    "if (BMI < 18):\n",
    "    print(\"Underweight\")\n",
    "\n",
    "elif (18 <= BMI < 24):\n",
    "    print(\"Normal\")\n",
    "\n",
    "elif (24 <= BMI < 29):\n",
    "    print(\"Overweight\")\n",
    "\n",
    "elif (29 <= BMI < 39):\n",
    "    print(\"Obesity\")\n",
    "\n",
    "else:\n",
    "    print(\"Extreme obesity\")"
   ]
  },
  {
   "cell_type": "code",
   "execution_count": null,
   "id": "ee7bc3bf-d5b1-4c93-a34c-a2a208d34df4",
   "metadata": {},
   "outputs": [],
   "source": []
  }
 ],
 "metadata": {
  "kernelspec": {
   "display_name": "Python 3 (ipykernel)",
   "language": "python",
   "name": "python3"
  },
  "language_info": {
   "codemirror_mode": {
    "name": "ipython",
    "version": 3
   },
   "file_extension": ".py",
   "mimetype": "text/x-python",
   "name": "python",
   "nbconvert_exporter": "python",
   "pygments_lexer": "ipython3",
   "version": "3.12.7"
  }
 },
 "nbformat": 4,
 "nbformat_minor": 5
}
